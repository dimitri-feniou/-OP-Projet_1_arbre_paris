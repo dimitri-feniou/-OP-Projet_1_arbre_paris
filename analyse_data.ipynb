{
 "cells": [
  {
   "attachments": {},
   "cell_type": "markdown",
   "metadata": {},
   "source": [
    "# <a id='toc1_'></a>[Projet 1 : Participez  un concours sur la smart City](#toc0_)\n",
    "\n",
    "![image.png](https://www.notre-planete.info/actualites/images/infrastructures/arbres-Paris.jpg)"
   ]
  },
  {
   "attachments": {},
   "cell_type": "markdown",
   "metadata": {},
   "source": [
    "**Table of contents**<a id='toc0_'></a>    \n",
    "- [Projet 1 : Participez  un concours sur la smart City](#toc1_)    \n",
    "  - [Contexte et règle : Concours Smart City](#toc1_1_)    \n",
    "  - [Analyse des données](#toc1_2_)    \n",
    "    - [Importation des librairies](#toc1_2_1_)    \n",
    "    - [Importation du jeu de données (via fichier ou api)](#toc1_2_2_)    \n",
    "    - [1ère Inspection du dataset](#toc1_2_3_)    \n",
    "  - [Suppression et renommage des colonnes du dataset](#toc1_3_)    \n",
    "\n",
    "<!-- vscode-jupyter-toc-config\n",
    "\tnumbering=false\n",
    "\tanchor=true\n",
    "\tflat=false\n",
    "\tminLevel=1\n",
    "\tmaxLevel=6\n",
    "\t/vscode-jupyter-toc-config -->\n",
    "<!-- THIS CELL WILL BE REPLACED ON TOC UPDATE. DO NOT WRITE YOUR TEXT IN THIS CELL -->"
   ]
  },
  {
   "attachments": {},
   "cell_type": "markdown",
   "metadata": {},
   "source": [
    "## <a id='toc1_1_'></a>[Contexte et règle : Concours Smart City](#toc0_)\n",
    "Vous avez décidé de participer à un challenge proposé par la ville de Paris ! Voici le cahier des charges du challenge, que vous avez trouvé sur le site :\n",
    "\n",
    "Dans ce challenge, ouvert à tous, vous allez réaliser une analyse exploratoire avec un jeu de données portant sur les arbres de la ville de Paris, dans le cadre du programme “Végétalisons la ville”.\n",
    "\n",
    "Vos résultats contribueront à une optimisation des tournées pour l’entretien des arbres de la ville. Eh oui, moins de tournées signifie moins de trajets, et plus d’arbres entretenus.\n",
    "\n",
    "Vous aurez ainsi un impact réel sur le futur de la ville de Paris !\n",
    "\n",
    "**Données**: \n",
    "\n",
    "Téléchargez le jeu de données des arbres de la ville de Paris. Vous pouvez aussi le consulter dans son contexte sur [opendata.paris.fr](https://opendata.paris.fr/explore/dataset/les-arbres/information/?dataChart=eyJxdWVyaWVzIjpbeyJjb25maWciOnsiZGF0YXNldCI6Imxlcy1hcmJyZXMiLCJvcHRpb25zIjp7fX0sImNoYXJ0cyI6W3siYWxpZ25Nb250aCI6dHJ1ZSwidHlwZSI6ImNvbHVtbiIsImZ1bmMiOiJBVkciLCJ5QXhpcyI6ImlkYmFzZSIsInNjaWVudGlmaWNEaXNwbGF5Ijp0cnVlLCJjb2xvciI6IiMwMDMzNjYifV0sInhBeGlzIjoidHlwZWVtcGxhY2VtZW50IiwibWF4cG9pbnRzIjo1MCwic29ydCI6IiJ9XSwidGltZXNjYWxlIjoiIiwiZGlzcGxheUxlZ2VuZCI6dHJ1ZSwiYWxpZ25Nb250aCI6dHJ1ZX0%3D&disjunctive.typeemplacement&disjunctive.arrondissement&disjunctive.libellefrancais&disjunctive.genre&disjunctive.espece&disjunctive.varieteoucultivar&disjunctive.stadedeveloppement&disjunctive.remarquable&location=13,48.86838,2.30953&basemap=jawg.streets) \n",
    "\n",
    "**Règles du challenge** :\n",
    "\n",
    "- Si ce n’est pas fait, installez votre environnement de développement sur votre ordinateur, et créez un environnement virtuel dédié à ce challenge.\n",
    "- Les données doivent être explorées à l’aide de Python et de ses librairies. \n",
    "- Vous soumettrez votre analyse sous forme de présentation, contenant les informations suivantes :\n",
    "- Présentation générale du jeu de données\n",
    "- Démarche méthodologique d’analyse de données \n",
    "- Synthèse de l’analyse de données\n",
    "\n",
    "- Le second livrable prendra la forme d’un Notebook Jupyter. \n",
    "Le Notebook sera documenté pour expliciter les différents traitements, calculs ou graphiques que vous effectuez en utilisant les fonctionnalités d’édition de texte de Jupyter. Vos explications doivent permettre à un public non technique de comprendre les différentes étapes de votre analyse et votre synthèse."
   ]
  },
  {
   "attachments": {},
   "cell_type": "markdown",
   "metadata": {},
   "source": [
    "## <a id='toc1_2_'></a>[Analyse des données](#toc0_)"
   ]
  },
  {
   "attachments": {},
   "cell_type": "markdown",
   "metadata": {},
   "source": [
    "### <a id='toc1_2_1_'></a>[Importation des librairies](#toc0_)"
   ]
  },
  {
   "cell_type": "code",
   "execution_count": 1,
   "metadata": {},
   "outputs": [],
   "source": [
    "# Library Import\n",
    "import pandas as pd\n",
    "import requests\n",
    "import seaborn as sns\n",
    "import matplotlib.pyplot as plt"
   ]
  },
  {
   "attachments": {},
   "cell_type": "markdown",
   "metadata": {},
   "source": [
    "### <a id='toc1_2_2_'></a>[Importation du jeu de données (via fichier ou api)](#toc0_)"
   ]
  },
  {
   "cell_type": "code",
   "execution_count": 2,
   "metadata": {},
   "outputs": [],
   "source": [
    "# Read csv dataset from folder 'dataset' contain CSV with separator ;\n",
    "df_arbre = pd.read_csv('dataset/les-arbres.csv',sep=\";\")"
   ]
  },
  {
   "cell_type": "code",
   "execution_count": 3,
   "metadata": {},
   "outputs": [
    {
     "name": "stdout",
     "output_type": "stream",
     "text": [
      "<Response [200]>\n"
     ]
    }
   ],
   "source": [
    "# Use API for read CSV dataset without downloading CSV files\n",
    "\n",
    "# Define the API endpoint URL\n",
    "\n",
    "\n",
    "api_url = \"https://opendata.paris.fr/api/explore/v2.0/catalog/datasets/les-arbres/exports/csv?delimiter=%3B&list_separator=%2C&quote_all=false&with_bom=false\"\n",
    "\n",
    "# Make GET request to the API\n",
    "response = requests.get(api_url)\n",
    "print(response)\n",
    "# Check if the request was successful (status code 200)\n",
    "if response.status_code == 200:\n",
    "\n",
    "    df_arbre = pd.read_csv(api_url,sep=\";\")\n",
    "else:\n",
    "    print(\"Request failed with status code:\", response.status_code)\n"
   ]
  },
  {
   "attachments": {},
   "cell_type": "markdown",
   "metadata": {},
   "source": [
    "### <a id='toc1_2_3_'></a>[1ère Inspection du dataset](#toc0_)"
   ]
  },
  {
   "attachments": {},
   "cell_type": "markdown",
   "metadata": {},
   "source": [
    "Nous allons vérifier que notre Dataframe c'est bien chargé en affichant les deux première ligne de notre Dataframe **df_arbre**"
   ]
  },
  {
   "cell_type": "code",
   "execution_count": 4,
   "metadata": {},
   "outputs": [
    {
     "data": {
      "text/html": [
       "<div>\n",
       "<style scoped>\n",
       "    .dataframe tbody tr th:only-of-type {\n",
       "        vertical-align: middle;\n",
       "    }\n",
       "\n",
       "    .dataframe tbody tr th {\n",
       "        vertical-align: top;\n",
       "    }\n",
       "\n",
       "    .dataframe thead th {\n",
       "        text-align: right;\n",
       "    }\n",
       "</style>\n",
       "<table border=\"1\" class=\"dataframe\">\n",
       "  <thead>\n",
       "    <tr style=\"text-align: right;\">\n",
       "      <th></th>\n",
       "      <th>idbase</th>\n",
       "      <th>typeemplacement</th>\n",
       "      <th>domanialite</th>\n",
       "      <th>arrondissement</th>\n",
       "      <th>complementadresse</th>\n",
       "      <th>numero</th>\n",
       "      <th>adresse</th>\n",
       "      <th>idemplacement</th>\n",
       "      <th>libellefrancais</th>\n",
       "      <th>genre</th>\n",
       "      <th>espece</th>\n",
       "      <th>varieteoucultivar</th>\n",
       "      <th>circonferenceencm</th>\n",
       "      <th>hauteurenm</th>\n",
       "      <th>stadedeveloppement</th>\n",
       "      <th>remarquable</th>\n",
       "      <th>geo_point_2d</th>\n",
       "    </tr>\n",
       "  </thead>\n",
       "  <tbody>\n",
       "    <tr>\n",
       "      <th>0</th>\n",
       "      <td>162774</td>\n",
       "      <td>Arbre</td>\n",
       "      <td>CIMETIERE</td>\n",
       "      <td>VAL-DE-MARNE</td>\n",
       "      <td>NaN</td>\n",
       "      <td>NaN</td>\n",
       "      <td>CIMETIERE DE THIAIS / AVENUE TRANSVERSALE N3 /...</td>\n",
       "      <td>A15100119006</td>\n",
       "      <td>Platane</td>\n",
       "      <td>Platanus</td>\n",
       "      <td>x hispanica</td>\n",
       "      <td>NaN</td>\n",
       "      <td>0</td>\n",
       "      <td>0</td>\n",
       "      <td>NaN</td>\n",
       "      <td>NaN</td>\n",
       "      <td>48.756530477583226, 2.380136897302042</td>\n",
       "    </tr>\n",
       "    <tr>\n",
       "      <th>1</th>\n",
       "      <td>191355</td>\n",
       "      <td>Arbre</td>\n",
       "      <td>DFPE</td>\n",
       "      <td>PARIS 15E ARRDT</td>\n",
       "      <td>NaN</td>\n",
       "      <td>NaN</td>\n",
       "      <td>FREDERIC MISTRAL (10 VILLA)</td>\n",
       "      <td>21220003</td>\n",
       "      <td>Orme</td>\n",
       "      <td>Ulmus</td>\n",
       "      <td>NaN</td>\n",
       "      <td>RESISTA</td>\n",
       "      <td>65</td>\n",
       "      <td>8</td>\n",
       "      <td>Jeune (arbre)</td>\n",
       "      <td>NON</td>\n",
       "      <td>48.83822312160151, 2.2863961319531456</td>\n",
       "    </tr>\n",
       "  </tbody>\n",
       "</table>\n",
       "</div>"
      ],
      "text/plain": [
       "   idbase typeemplacement domanialite   arrondissement complementadresse  \\\n",
       "0  162774           Arbre   CIMETIERE     VAL-DE-MARNE               NaN   \n",
       "1  191355           Arbre        DFPE  PARIS 15E ARRDT               NaN   \n",
       "\n",
       "   numero                                            adresse idemplacement  \\\n",
       "0     NaN  CIMETIERE DE THIAIS / AVENUE TRANSVERSALE N3 /...  A15100119006   \n",
       "1     NaN                        FREDERIC MISTRAL (10 VILLA)      21220003   \n",
       "\n",
       "  libellefrancais     genre       espece varieteoucultivar  circonferenceencm  \\\n",
       "0         Platane  Platanus  x hispanica               NaN                  0   \n",
       "1            Orme     Ulmus          NaN           RESISTA                 65   \n",
       "\n",
       "   hauteurenm stadedeveloppement remarquable  \\\n",
       "0           0                NaN         NaN   \n",
       "1           8      Jeune (arbre)         NON   \n",
       "\n",
       "                            geo_point_2d  \n",
       "0  48.756530477583226, 2.380136897302042  \n",
       "1  48.83822312160151, 2.2863961319531456  "
      ]
     },
     "execution_count": 4,
     "metadata": {},
     "output_type": "execute_result"
    }
   ],
   "source": [
    "# View 2 first row of dataframe\n",
    "df_arbre.head(2)"
   ]
  },
  {
   "attachments": {},
   "cell_type": "markdown",
   "metadata": {},
   "source": [
    "Regardons maintenant combien de lignes et de colonnes nous avons dans notre dataframe"
   ]
  },
  {
   "cell_type": "code",
   "execution_count": 5,
   "metadata": {},
   "outputs": [
    {
     "data": {
      "text/plain": [
       "'Notre dataset contient 207580 lignes et 17 colonnes pour décrire nos données.'"
      ]
     },
     "execution_count": 5,
     "metadata": {},
     "output_type": "execute_result"
    }
   ],
   "source": [
    "# See the shape of dataframe\n",
    "f\"Notre dataset contient {df_arbre.shape[0]} lignes et {df_arbre.shape[1]} colonnes pour décrire nos données.\""
   ]
  },
  {
   "attachments": {},
   "cell_type": "markdown",
   "metadata": {},
   "source": [
    "Vérifions si les types des données des colonnes sont appropriés"
   ]
  },
  {
   "cell_type": "code",
   "execution_count": 6,
   "metadata": {},
   "outputs": [
    {
     "data": {
      "text/plain": [
       "idbase                  int64\n",
       "typeemplacement        object\n",
       "domanialite            object\n",
       "arrondissement         object\n",
       "complementadresse      object\n",
       "numero                float64\n",
       "adresse                object\n",
       "idemplacement          object\n",
       "libellefrancais        object\n",
       "genre                  object\n",
       "espece                 object\n",
       "varieteoucultivar      object\n",
       "circonferenceencm       int64\n",
       "hauteurenm              int64\n",
       "stadedeveloppement     object\n",
       "remarquable            object\n",
       "geo_point_2d           object\n",
       "dtype: object"
      ]
     },
     "execution_count": 6,
     "metadata": {},
     "output_type": "execute_result"
    }
   ],
   "source": [
    "# See types of values in the dataframe\n",
    "df_arbre.dtypes"
   ]
  },
  {
   "attachments": {},
   "cell_type": "markdown",
   "metadata": {},
   "source": [
    "Pandas a bien converti nos données dans le bon type il n'aura pas de conversion sur le types de données à faire"
   ]
  },
  {
   "attachments": {},
   "cell_type": "markdown",
   "metadata": {},
   "source": [
    "Regardons maintenant le taux de valeurs manquantes dans chaque colonnes"
   ]
  },
  {
   "cell_type": "code",
   "execution_count": 7,
   "metadata": {},
   "outputs": [
    {
     "data": {
      "text/plain": [
       "idbase                0.000000\n",
       "typeemplacement       0.000000\n",
       "domanialite           0.000000\n",
       "arrondissement        0.000000\n",
       "complementadresse     0.723008\n",
       "numero                1.000000\n",
       "adresse               0.000000\n",
       "idemplacement         0.000000\n",
       "libellefrancais       0.005839\n",
       "genre                 0.000010\n",
       "espece                0.011947\n",
       "varieteoucultivar     0.808826\n",
       "circonferenceencm     0.000000\n",
       "hauteurenm            0.000000\n",
       "stadedeveloppement    0.228717\n",
       "remarquable           0.109095\n",
       "geo_point_2d          0.000000\n",
       "dtype: float64"
      ]
     },
     "execution_count": 7,
     "metadata": {},
     "output_type": "execute_result"
    }
   ],
   "source": [
    "# See Nan values on dataframe\n",
    "df_arbre.isna().mean()"
   ]
  },
  {
   "attachments": {},
   "cell_type": "markdown",
   "metadata": {},
   "source": [
    "Observation sur les valeurs manquantes : \n",
    "- La colonne **typeemplacement** contient seulement mention 'Arbre' pour chaque valeur (colonne à supprimer)\n",
    "- La colonne **numero** contient que des valeurs nulles (colonne à supprimer)\n",
    "- La colonne **complementadresse** contient **72%** de valeurs nulle, cette colonne ne nous servira pas pour notre analyse (colonne à supprimer)"
   ]
  },
  {
   "attachments": {},
   "cell_type": "markdown",
   "metadata": {},
   "source": [
    "### Vérification des duplicatas\n",
    "Chaque arbre de paris a un identifiant unique valeur contenu dans la colonne **idbase** vérifions que chaque valeurs est bien unique"
   ]
  },
  {
   "cell_type": "code",
   "execution_count": 8,
   "metadata": {},
   "outputs": [
    {
     "data": {
      "text/html": [
       "<div>\n",
       "<style scoped>\n",
       "    .dataframe tbody tr th:only-of-type {\n",
       "        vertical-align: middle;\n",
       "    }\n",
       "\n",
       "    .dataframe tbody tr th {\n",
       "        vertical-align: top;\n",
       "    }\n",
       "\n",
       "    .dataframe thead th {\n",
       "        text-align: right;\n",
       "    }\n",
       "</style>\n",
       "<table border=\"1\" class=\"dataframe\">\n",
       "  <thead>\n",
       "    <tr style=\"text-align: right;\">\n",
       "      <th></th>\n",
       "      <th>idbase</th>\n",
       "      <th>typeemplacement</th>\n",
       "      <th>domanialite</th>\n",
       "      <th>arrondissement</th>\n",
       "      <th>complementadresse</th>\n",
       "      <th>numero</th>\n",
       "      <th>adresse</th>\n",
       "      <th>idemplacement</th>\n",
       "      <th>libellefrancais</th>\n",
       "      <th>genre</th>\n",
       "      <th>espece</th>\n",
       "      <th>varieteoucultivar</th>\n",
       "      <th>circonferenceencm</th>\n",
       "      <th>hauteurenm</th>\n",
       "      <th>stadedeveloppement</th>\n",
       "      <th>remarquable</th>\n",
       "      <th>geo_point_2d</th>\n",
       "    </tr>\n",
       "  </thead>\n",
       "  <tbody>\n",
       "    <tr>\n",
       "      <th>33213</th>\n",
       "      <td>227160</td>\n",
       "      <td>Arbre</td>\n",
       "      <td>Alignement</td>\n",
       "      <td>PARIS 6E ARRDT</td>\n",
       "      <td>NaN</td>\n",
       "      <td>NaN</td>\n",
       "      <td>PORT DES SAINTS PERES / QUAI MALAQUAIS</td>\n",
       "      <td>000201008</td>\n",
       "      <td>Peuplier</td>\n",
       "      <td>Populus</td>\n",
       "      <td>alba</td>\n",
       "      <td>''Raket''</td>\n",
       "      <td>165</td>\n",
       "      <td>15</td>\n",
       "      <td>NaN</td>\n",
       "      <td>NON</td>\n",
       "      <td>48.85831741176347, 2.3344414199576278</td>\n",
       "    </tr>\n",
       "    <tr>\n",
       "      <th>97283</th>\n",
       "      <td>227160</td>\n",
       "      <td>Arbre</td>\n",
       "      <td>Alignement</td>\n",
       "      <td>PARIS 6E ARRDT</td>\n",
       "      <td>NaN</td>\n",
       "      <td>NaN</td>\n",
       "      <td>PORT DES SAINTS PERES / QUAI MALAQUAIS</td>\n",
       "      <td>000201008</td>\n",
       "      <td>Peuplier</td>\n",
       "      <td>Populus</td>\n",
       "      <td>alba</td>\n",
       "      <td>''Raket''</td>\n",
       "      <td>20</td>\n",
       "      <td>5</td>\n",
       "      <td>Jeune (arbre)</td>\n",
       "      <td>NON</td>\n",
       "      <td>48.85831741176347, 2.3344414199576278</td>\n",
       "    </tr>\n",
       "  </tbody>\n",
       "</table>\n",
       "</div>"
      ],
      "text/plain": [
       "       idbase typeemplacement domanialite  arrondissement complementadresse  \\\n",
       "33213  227160           Arbre  Alignement  PARIS 6E ARRDT               NaN   \n",
       "97283  227160           Arbre  Alignement  PARIS 6E ARRDT               NaN   \n",
       "\n",
       "       numero                                 adresse idemplacement  \\\n",
       "33213     NaN  PORT DES SAINTS PERES / QUAI MALAQUAIS     000201008   \n",
       "97283     NaN  PORT DES SAINTS PERES / QUAI MALAQUAIS     000201008   \n",
       "\n",
       "      libellefrancais    genre espece varieteoucultivar  circonferenceencm  \\\n",
       "33213        Peuplier  Populus   alba         ''Raket''                165   \n",
       "97283        Peuplier  Populus   alba         ''Raket''                 20   \n",
       "\n",
       "       hauteurenm stadedeveloppement remarquable  \\\n",
       "33213          15                NaN         NON   \n",
       "97283           5      Jeune (arbre)         NON   \n",
       "\n",
       "                                geo_point_2d  \n",
       "33213  48.85831741176347, 2.3344414199576278  \n",
       "97283  48.85831741176347, 2.3344414199576278  "
      ]
     },
     "metadata": {},
     "output_type": "display_data"
    }
   ],
   "source": [
    "# Create variable for see all duplicate value in idbase column\n",
    "duplicated_values = df_arbre[df_arbre['idbase'].duplicated(keep=False)]\n",
    "\n",
    "# Print the duplicated values to see all values of two\n",
    "display(duplicated_values)\n"
   ]
  },
  {
   "cell_type": "code",
   "execution_count": 9,
   "metadata": {},
   "outputs": [],
   "source": [
    "# Drop the duplicated values and keep the values with more information\n",
    "df_arbre = df_arbre.drop_duplicates(keep='first')"
   ]
  },
  {
   "attachments": {},
   "cell_type": "markdown",
   "metadata": {},
   "source": [
    "Notre dataset contient un seul arbre en double, nous avons choisi de gardé la valeur de la ligne 91478 qui contient plus d'information sur l'arbre."
   ]
  },
  {
   "attachments": {},
   "cell_type": "markdown",
   "metadata": {},
   "source": [
    "### Arbre remarquable \n",
    "La colonne 'remarquable' contient deux valeurs soit 'NON' ou 'OUI' soit 'Nan'. On sait que notre colonne contient environ **10 %** de valeurs nulle.\n",
    "Pour vérifier le nombre d'arbre remarquable à paris nous allons vérifier nos données grâce a un autre dataset comptabilisant les arbres remarquable [disponible ici](https://opendata.paris.fr/explore/dataset/arbresremarquablesparis/).\n",
    "\n",
    "- Quesqu'un arbre remarquable ?\n",
    "\n",
    "Selon l'observatoire des arbres de paris un arbre remarquable se distingue selon plusieurs caractéristiques :\n",
    "> \"La beauté, l’âge, les dimensions, l’histoire, les légendes, les coutumes, la rareté, les curiosités sont autant d’éléments qui permettent d’identifier des arbres hors du commun. Le caractère remarquable d’un arbre reste toutefois librement appréciable.\"\n",
    "\n",
    "Comparons maintenant les arbres remarquables de notre dataset avec celui contenant spécifiquement les arbres remarquables"
   ]
  },
  {
   "cell_type": "code",
   "execution_count": 21,
   "metadata": {},
   "outputs": [
    {
     "name": "stdout",
     "output_type": "stream",
     "text": [
      "<Response [200]>\n"
     ]
    }
   ],
   "source": [
    "# Compare values of dataset on tree remarquable \n",
    "\n",
    "# Use API for read CSV dataset without downloading CSV files\n",
    "\n",
    "# Define the API endpoint URL\n",
    "api_url = \"https://opendata.paris.fr/api/explore/v2.0/catalog/datasets/arbresremarquablesparis/exports/csv?delimiter=%3B&list_separator=%2C&quote_all=false&with_bom=false\"\n",
    "\n",
    "# Make GET request to the API\n",
    "response = requests.get(api_url)\n",
    "print(response)\n",
    "# Check if the request was successful (status code 200)\n",
    "if response.status_code == 200:\n",
    "\n",
    "    df_remarquable = pd.read_csv(api_url,sep=\";\")\n",
    "else:\n",
    "    print(\"Request failed with status code:\", response.status_code)\n",
    "\n",
    "df_remarquable['arbres_idbase'] = df_remarquable['arbres_idbase'].astype('int64')\n",
    "df_remarquable = df_remarquable.sort_values('arbres_idbase')"
   ]
  },
  {
   "cell_type": "code",
   "execution_count": 24,
   "metadata": {},
   "outputs": [],
   "source": [
    "# Create a dataframe with only remarquable trees \n",
    "df_arbre_remarquable = df_arbre[df_arbre['remarquable'] == 'OUI']\n",
    "df_remarquable = df_remarquable.rename(columns={\"arbres_idbase\":\"idbase\"})\n",
    "merged_df = pd.merge(df_arbre_remarquable,df_remarquable, on='idbase', how='outer',indicator=True)"
   ]
  },
  {
   "cell_type": "code",
   "execution_count": 13,
   "metadata": {},
   "outputs": [
    {
     "name": "stdout",
     "output_type": "stream",
     "text": [
      "<class 'pandas.core.frame.DataFrame'>\n",
      "Int64Index: 177 entries, 146 to 67\n",
      "Data columns (total 36 columns):\n",
      " #   Column                     Non-Null Count  Dtype  \n",
      "---  ------                     --------------  -----  \n",
      " 0   geom_x_y                   177 non-null    object \n",
      " 1   arbres_idbase              177 non-null    int64  \n",
      " 2   arbres_domanialite         177 non-null    object \n",
      " 3   arbres_arrondissement      177 non-null    object \n",
      " 4   arbres_complementadresse   133 non-null    object \n",
      " 5   arbres_numero              0 non-null      float64\n",
      " 6   arbres_adresse             177 non-null    object \n",
      " 7   arbres_circonferenceencm   177 non-null    float64\n",
      " 8   arbres_hauteurenm          177 non-null    float64\n",
      " 9   arbres_stadedeveloppement  176 non-null    object \n",
      " 10  arbres_pepiniere           177 non-null    object \n",
      " 11  arbres_genre               177 non-null    object \n",
      " 12  arbres_espece              177 non-null    object \n",
      " 13  arbres_varieteoucultivar   15 non-null     object \n",
      " 14  arbres_dateplantation      177 non-null    object \n",
      " 15  arbres_libellefrancais     177 non-null    object \n",
      " 16  com_idbase                 177 non-null    float64\n",
      " 17  com_idarbre                177 non-null    float64\n",
      " 18  com_site                   177 non-null    object \n",
      " 19  com_adresse                138 non-null    object \n",
      " 20  com_complement_adresse     132 non-null    object \n",
      " 21  com_arrondissement         177 non-null    object \n",
      " 22  com_domanialite            176 non-null    object \n",
      " 23  com_nom_usuel              177 non-null    object \n",
      " 24  com_nom_latin              177 non-null    object \n",
      " 25  com_autorite_taxo          158 non-null    object \n",
      " 26  com_annee_plantation       177 non-null    object \n",
      " 27  com_qualification_rem      177 non-null    object \n",
      " 28  com_resume                 177 non-null    object \n",
      " 29  com_descriptif             177 non-null    object \n",
      " 30  com_delib_num              16 non-null     object \n",
      " 31  com_delib_date             16 non-null     object \n",
      " 32  com_label_arbres           16 non-null     object \n",
      " 33  com_url_pdf                177 non-null    object \n",
      " 34  com_url_photo1             177 non-null    object \n",
      " 35  com_copyright1             170 non-null    object \n",
      "dtypes: float64(5), int64(1), object(30)\n",
      "memory usage: 51.2+ KB\n"
     ]
    }
   ],
   "source": [
    "df_remarquable.info()"
   ]
  },
  {
   "cell_type": "code",
   "execution_count": 27,
   "metadata": {},
   "outputs": [],
   "source": [
    "df_remarquable = df_remarquable.rename(columns={\"arbres_idbase\":\"idbase\"})\n",
    "merged_df = pd.merge(df_arbre_remarquable,df_remarquable, on='idbase', how='outer',indicator=True)"
   ]
  },
  {
   "cell_type": "code",
   "execution_count": 35,
   "metadata": {},
   "outputs": [
    {
     "data": {
      "text/html": [
       "<div>\n",
       "<style scoped>\n",
       "    .dataframe tbody tr th:only-of-type {\n",
       "        vertical-align: middle;\n",
       "    }\n",
       "\n",
       "    .dataframe tbody tr th {\n",
       "        vertical-align: top;\n",
       "    }\n",
       "\n",
       "    .dataframe thead th {\n",
       "        text-align: right;\n",
       "    }\n",
       "</style>\n",
       "<table border=\"1\" class=\"dataframe\">\n",
       "  <thead>\n",
       "    <tr style=\"text-align: right;\">\n",
       "      <th></th>\n",
       "      <th>idbase</th>\n",
       "      <th>typeemplacement</th>\n",
       "      <th>domanialite</th>\n",
       "      <th>arrondissement</th>\n",
       "      <th>complementadresse</th>\n",
       "      <th>numero</th>\n",
       "      <th>adresse</th>\n",
       "      <th>idemplacement</th>\n",
       "      <th>libellefrancais</th>\n",
       "      <th>genre</th>\n",
       "      <th>...</th>\n",
       "      <th>com_qualification_rem</th>\n",
       "      <th>com_resume</th>\n",
       "      <th>com_descriptif</th>\n",
       "      <th>com_delib_num</th>\n",
       "      <th>com_delib_date</th>\n",
       "      <th>com_label_arbres</th>\n",
       "      <th>com_url_pdf</th>\n",
       "      <th>com_url_photo1</th>\n",
       "      <th>com_copyright1</th>\n",
       "      <th>_merge</th>\n",
       "    </tr>\n",
       "  </thead>\n",
       "  <tbody>\n",
       "    <tr>\n",
       "      <th>46</th>\n",
       "      <td>102140</td>\n",
       "      <td>Arbre</td>\n",
       "      <td>Jardin</td>\n",
       "      <td>PARIS 19E ARRDT</td>\n",
       "      <td>NaN</td>\n",
       "      <td>NaN</td>\n",
       "      <td>PARC DES BUTTES CHAUMONT</td>\n",
       "      <td>H0690011</td>\n",
       "      <td>Platane</td>\n",
       "      <td>Platanus</td>\n",
       "      <td>...</td>\n",
       "      <td>NaN</td>\n",
       "      <td>NaN</td>\n",
       "      <td>NaN</td>\n",
       "      <td>NaN</td>\n",
       "      <td>NaN</td>\n",
       "      <td>NaN</td>\n",
       "      <td>NaN</td>\n",
       "      <td>NaN</td>\n",
       "      <td>NaN</td>\n",
       "      <td>left_only</td>\n",
       "    </tr>\n",
       "    <tr>\n",
       "      <th>60</th>\n",
       "      <td>2002393</td>\n",
       "      <td>Arbre</td>\n",
       "      <td>Jardin</td>\n",
       "      <td>BOIS DE BOULOGNE</td>\n",
       "      <td>16-11</td>\n",
       "      <td>NaN</td>\n",
       "      <td>PETITE ILE DU LAC INFERIEUR</td>\n",
       "      <td>000801001</td>\n",
       "      <td>Hêtre</td>\n",
       "      <td>Fagus</td>\n",
       "      <td>...</td>\n",
       "      <td>NaN</td>\n",
       "      <td>NaN</td>\n",
       "      <td>NaN</td>\n",
       "      <td>NaN</td>\n",
       "      <td>NaN</td>\n",
       "      <td>NaN</td>\n",
       "      <td>NaN</td>\n",
       "      <td>NaN</td>\n",
       "      <td>NaN</td>\n",
       "      <td>left_only</td>\n",
       "    </tr>\n",
       "    <tr>\n",
       "      <th>72</th>\n",
       "      <td>102139</td>\n",
       "      <td>Arbre</td>\n",
       "      <td>Jardin</td>\n",
       "      <td>PARIS 19E ARRDT</td>\n",
       "      <td>NaN</td>\n",
       "      <td>NaN</td>\n",
       "      <td>PARC DES BUTTES CHAUMONT</td>\n",
       "      <td>H0690013</td>\n",
       "      <td>Platane</td>\n",
       "      <td>Platanus</td>\n",
       "      <td>...</td>\n",
       "      <td>NaN</td>\n",
       "      <td>NaN</td>\n",
       "      <td>NaN</td>\n",
       "      <td>NaN</td>\n",
       "      <td>NaN</td>\n",
       "      <td>NaN</td>\n",
       "      <td>NaN</td>\n",
       "      <td>NaN</td>\n",
       "      <td>NaN</td>\n",
       "      <td>left_only</td>\n",
       "    </tr>\n",
       "  </tbody>\n",
       "</table>\n",
       "<p>3 rows × 53 columns</p>\n",
       "</div>"
      ],
      "text/plain": [
       "     idbase typeemplacement domanialite    arrondissement complementadresse  \\\n",
       "46   102140           Arbre      Jardin   PARIS 19E ARRDT               NaN   \n",
       "60  2002393           Arbre      Jardin  BOIS DE BOULOGNE             16-11   \n",
       "72   102139           Arbre      Jardin   PARIS 19E ARRDT               NaN   \n",
       "\n",
       "    numero                      adresse idemplacement libellefrancais  \\\n",
       "46     NaN     PARC DES BUTTES CHAUMONT      H0690011         Platane   \n",
       "60     NaN  PETITE ILE DU LAC INFERIEUR     000801001           Hêtre   \n",
       "72     NaN     PARC DES BUTTES CHAUMONT      H0690013         Platane   \n",
       "\n",
       "       genre  ... com_qualification_rem com_resume  com_descriptif  \\\n",
       "46  Platanus  ...                   NaN        NaN             NaN   \n",
       "60     Fagus  ...                   NaN        NaN             NaN   \n",
       "72  Platanus  ...                   NaN        NaN             NaN   \n",
       "\n",
       "    com_delib_num com_delib_date com_label_arbres com_url_pdf com_url_photo1  \\\n",
       "46            NaN            NaN              NaN         NaN            NaN   \n",
       "60            NaN            NaN              NaN         NaN            NaN   \n",
       "72            NaN            NaN              NaN         NaN            NaN   \n",
       "\n",
       "   com_copyright1     _merge  \n",
       "46            NaN  left_only  \n",
       "60            NaN  left_only  \n",
       "72            NaN  left_only  \n",
       "\n",
       "[3 rows x 53 columns]"
      ]
     },
     "metadata": {},
     "output_type": "display_data"
    }
   ],
   "source": [
    "display(merged_df[merged_df['_merge']=='left_only'])"
   ]
  },
  {
   "cell_type": "code",
   "execution_count": 36,
   "metadata": {},
   "outputs": [
    {
     "data": {
      "text/html": [
       "<div>\n",
       "<style scoped>\n",
       "    .dataframe tbody tr th:only-of-type {\n",
       "        vertical-align: middle;\n",
       "    }\n",
       "\n",
       "    .dataframe tbody tr th {\n",
       "        vertical-align: top;\n",
       "    }\n",
       "\n",
       "    .dataframe thead th {\n",
       "        text-align: right;\n",
       "    }\n",
       "</style>\n",
       "<table border=\"1\" class=\"dataframe\">\n",
       "  <thead>\n",
       "    <tr style=\"text-align: right;\">\n",
       "      <th></th>\n",
       "      <th>idbase</th>\n",
       "      <th>typeemplacement</th>\n",
       "      <th>domanialite</th>\n",
       "      <th>arrondissement</th>\n",
       "      <th>complementadresse</th>\n",
       "      <th>numero</th>\n",
       "      <th>adresse</th>\n",
       "      <th>idemplacement</th>\n",
       "      <th>libellefrancais</th>\n",
       "      <th>genre</th>\n",
       "      <th>...</th>\n",
       "      <th>com_qualification_rem</th>\n",
       "      <th>com_resume</th>\n",
       "      <th>com_descriptif</th>\n",
       "      <th>com_delib_num</th>\n",
       "      <th>com_delib_date</th>\n",
       "      <th>com_label_arbres</th>\n",
       "      <th>com_url_pdf</th>\n",
       "      <th>com_url_photo1</th>\n",
       "      <th>com_copyright1</th>\n",
       "      <th>_merge</th>\n",
       "    </tr>\n",
       "  </thead>\n",
       "  <tbody>\n",
       "    <tr>\n",
       "      <th>179</th>\n",
       "      <td>178840</td>\n",
       "      <td>NaN</td>\n",
       "      <td>NaN</td>\n",
       "      <td>NaN</td>\n",
       "      <td>NaN</td>\n",
       "      <td>NaN</td>\n",
       "      <td>NaN</td>\n",
       "      <td>NaN</td>\n",
       "      <td>NaN</td>\n",
       "      <td>NaN</td>\n",
       "      <td>...</td>\n",
       "      <td>Historique</td>\n",
       "      <td>Cet arbre est classé remarquable pour son cara...</td>\n",
       "      <td>En 1860, Louis Pasteur aurait fait planter ce ...</td>\n",
       "      <td>NaN</td>\n",
       "      <td>NaN</td>\n",
       "      <td>NaN</td>\n",
       "      <td>https://capgeo.sig.paris.fr/PdfEtImages/Arbres...</td>\n",
       "      <td>https://capgeo.sig.paris.fr/PdfEtImages/Arbres...</td>\n",
       "      <td>NaN</td>\n",
       "      <td>right_only</td>\n",
       "    </tr>\n",
       "  </tbody>\n",
       "</table>\n",
       "<p>1 rows × 53 columns</p>\n",
       "</div>"
      ],
      "text/plain": [
       "     idbase typeemplacement domanialite arrondissement complementadresse  \\\n",
       "179  178840             NaN         NaN            NaN               NaN   \n",
       "\n",
       "     numero adresse idemplacement libellefrancais genre  ...  \\\n",
       "179     NaN     NaN           NaN             NaN   NaN  ...   \n",
       "\n",
       "    com_qualification_rem                                         com_resume  \\\n",
       "179            Historique  Cet arbre est classé remarquable pour son cara...   \n",
       "\n",
       "                                        com_descriptif  com_delib_num  \\\n",
       "179  En 1860, Louis Pasteur aurait fait planter ce ...            NaN   \n",
       "\n",
       "    com_delib_date com_label_arbres  \\\n",
       "179            NaN              NaN   \n",
       "\n",
       "                                           com_url_pdf  \\\n",
       "179  https://capgeo.sig.paris.fr/PdfEtImages/Arbres...   \n",
       "\n",
       "                                        com_url_photo1 com_copyright1  \\\n",
       "179  https://capgeo.sig.paris.fr/PdfEtImages/Arbres...            NaN   \n",
       "\n",
       "         _merge  \n",
       "179  right_only  \n",
       "\n",
       "[1 rows x 53 columns]"
      ]
     },
     "metadata": {},
     "output_type": "display_data"
    }
   ],
   "source": [
    "display(merged_df[merged_df['_merge']=='right_only'])"
   ]
  },
  {
   "cell_type": "code",
   "execution_count": 31,
   "metadata": {},
   "outputs": [
    {
     "data": {
      "text/plain": [
       "both          176\n",
       "left_only       3\n",
       "right_only      1\n",
       "Name: _merge, dtype: int64"
      ]
     },
     "execution_count": 31,
     "metadata": {},
     "output_type": "execute_result"
    }
   ],
   "source": [
    "merged_df['_merge'].value_counts()"
   ]
  },
  {
   "attachments": {},
   "cell_type": "markdown",
   "metadata": {},
   "source": [
    "## Analyse graphique"
   ]
  },
  {
   "cell_type": "code",
   "execution_count": null,
   "metadata": {},
   "outputs": [],
   "source": [
    "# Change column to capitalize values\n",
    "df_arbre['arrondissement'] = df_arbre['arrondissement'].str.capitalize()"
   ]
  },
  {
   "cell_type": "code",
   "execution_count": null,
   "metadata": {},
   "outputs": [
    {
     "data": {
      "image/png": "[encoded data removed]",
      "text/plain": [
       "<Figure size 1200x800 with 1 Axes>"
      ]
     },
     "metadata": {},
     "output_type": "display_data"
    }
   ],
   "source": [
    "# Set theme\n",
    "sns.set_style('whitegrid')\n",
    "sns.color_palette(\"Set2\")\n",
    "# Set the figure size\n",
    "plt.figure(figsize=(12, 8))\n",
    "sns.countplot(x=df_arbre[\"arrondissement\"])\n",
    "plt.xlabel('Arrondissement',fontsize=10)\n",
    "plt.ylabel(\"Nombre d'arbre\")\n",
    "plt.title(\"Nombre d'arbre par arrondissement de Paris\")\n",
    "plt.show()"
   ]
  },
  {
   "attachments": {},
   "cell_type": "markdown",
   "metadata": {},
   "source": [
    "### <a id='toc1_3_'></a>[Suppression et renommage des colonnes du dataset](#toc0_)"
   ]
  }
 ],
 "metadata": {
  "kernelspec": {
   "display_name": "projet_data_arbre",
   "language": "python",
   "name": "python3"
  },
  "language_info": {
   "codemirror_mode": {
    "name": "ipython",
    "version": 3
   },
   "file_extension": ".py",
   "mimetype": "text/x-python",
   "name": "python",
   "nbconvert_exporter": "python",
   "pygments_lexer": "ipython3",
   "version": "3.11.3"
  },
  "orig_nbformat": 4
 },
 "nbformat": 4,
 "nbformat_minor": 2
}
