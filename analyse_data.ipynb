{
 "cells": [
  {
   "attachments": {},
   "cell_type": "markdown",
   "metadata": {},
   "source": [
    "# <a id='toc1_'></a>[Projet 1 : Participez  un concours sur la smart City](#toc0_)\n",
    "\n",
    "![image.png](https://www.notre-planete.info/actualites/images/infrastructures/arbres-Paris.jpg)"
   ]
  },
  {
   "attachments": {},
   "cell_type": "markdown",
   "metadata": {},
   "source": [
    "**Table of contents**<a id='toc0_'></a>    \n",
    "- [Projet 1 : Participez  un concours sur la smart City](#toc1_)    \n",
    "  - [Contexte et règle : Concours Smart City](#toc1_1_)    \n",
    "  - [Analyse des données](#toc1_2_)    \n",
    "    - [Importation des librairies](#toc1_2_1_)    \n",
    "    - [Importation du jeu de données (via fichier ou api)](#toc1_2_2_)    \n",
    "    - [1ère Inspection du dataset](#toc1_2_3_)    \n",
    "  - [Suppression et renommage des colonnes du dataset](#toc1_3_)    \n",
    "\n",
    "<!-- vscode-jupyter-toc-config\n",
    "\tnumbering=false\n",
    "\tanchor=true\n",
    "\tflat=false\n",
    "\tminLevel=1\n",
    "\tmaxLevel=6\n",
    "\t/vscode-jupyter-toc-config -->\n",
    "<!-- THIS CELL WILL BE REPLACED ON TOC UPDATE. DO NOT WRITE YOUR TEXT IN THIS CELL -->"
   ]
  },
  {
   "attachments": {},
   "cell_type": "markdown",
   "metadata": {},
   "source": [
    "## <a id='toc1_1_'></a>[Contexte et règle : Concours Smart City](#toc0_)\n",
    "Vous avez décidé de participer à un challenge proposé par la ville de Paris ! Voici le cahier des charges du challenge, que vous avez trouvé sur le site :\n",
    "\n",
    "Dans ce challenge, ouvert à tous, vous allez réaliser une analyse exploratoire avec un jeu de données portant sur les arbres de la ville de Paris, dans le cadre du programme “Végétalisons la ville”.\n",
    "\n",
    "Vos résultats contribueront à une optimisation des tournées pour l’entretien des arbres de la ville. Eh oui, moins de tournées signifie moins de trajets, et plus d’arbres entretenus.\n",
    "\n",
    "Vous aurez ainsi un impact réel sur le futur de la ville de Paris !\n",
    "\n",
    "**Données**: \n",
    "\n",
    "Téléchargez le jeu de données des arbres de la ville de Paris. Vous pouvez aussi le consulter dans son contexte sur [opendata.paris.fr](https://opendata.paris.fr/explore/dataset/les-arbres/information/?dataChart=eyJxdWVyaWVzIjpbeyJjb25maWciOnsiZGF0YXNldCI6Imxlcy1hcmJyZXMiLCJvcHRpb25zIjp7fX0sImNoYXJ0cyI6W3siYWxpZ25Nb250aCI6dHJ1ZSwidHlwZSI6ImNvbHVtbiIsImZ1bmMiOiJBVkciLCJ5QXhpcyI6ImlkYmFzZSIsInNjaWVudGlmaWNEaXNwbGF5Ijp0cnVlLCJjb2xvciI6IiMwMDMzNjYifV0sInhBeGlzIjoidHlwZWVtcGxhY2VtZW50IiwibWF4cG9pbnRzIjo1MCwic29ydCI6IiJ9XSwidGltZXNjYWxlIjoiIiwiZGlzcGxheUxlZ2VuZCI6dHJ1ZSwiYWxpZ25Nb250aCI6dHJ1ZX0%3D&disjunctive.typeemplacement&disjunctive.arrondissement&disjunctive.libellefrancais&disjunctive.genre&disjunctive.espece&disjunctive.varieteoucultivar&disjunctive.stadedeveloppement&disjunctive.remarquable&location=13,48.86838,2.30953&basemap=jawg.streets) \n",
    "\n",
    "**Règles du challenge** :\n",
    "\n",
    "- Si ce n’est pas fait, installez votre environnement de développement sur votre ordinateur, et créez un environnement virtuel dédié à ce challenge.\n",
    "- Les données doivent être explorées à l’aide de Python et de ses librairies. \n",
    "- Vous soumettrez votre analyse sous forme de présentation, contenant les informations suivantes :\n",
    "- Présentation générale du jeu de données\n",
    "- Démarche méthodologique d’analyse de données \n",
    "- Synthèse de l’analyse de données\n",
    "\n",
    "- Le second livrable prendra la forme d’un Notebook Jupyter. \n",
    "Le Notebook sera documenté pour expliciter les différents traitements, calculs ou graphiques que vous effectuez en utilisant les fonctionnalités d’édition de texte de Jupyter. Vos explications doivent permettre à un public non technique de comprendre les différentes étapes de votre analyse et votre synthèse."
   ]
  },
  {
   "attachments": {},
   "cell_type": "markdown",
   "metadata": {},
   "source": [
    "## <a id='toc1_2_'></a>[Analyse des données](#toc0_)"
   ]
  },
  {
   "attachments": {},
   "cell_type": "markdown",
   "metadata": {},
   "source": [
    "### <a id='toc1_2_1_'></a>[Importation des librairies](#toc0_)"
   ]
  },
  {
   "cell_type": "code",
   "execution_count": 1,
   "metadata": {},
   "outputs": [],
   "source": [
    "# Library Import\n",
    "import pandas as pd\n",
    "import requests"
   ]
  },
  {
   "attachments": {},
   "cell_type": "markdown",
   "metadata": {},
   "source": [
    "### <a id='toc1_2_2_'></a>[Importation du jeu de données (via fichier ou api)](#toc0_)"
   ]
  },
  {
   "cell_type": "code",
   "execution_count": 2,
   "metadata": {},
   "outputs": [],
   "source": [
    "# Read csv dataset from folder 'dataset' contain CSV with separator ;\n",
    "df_arbre = pd.read_csv('dataset/les-arbres.csv',sep=\";\")"
   ]
  },
  {
   "cell_type": "code",
   "execution_count": 4,
   "metadata": {},
   "outputs": [
    {
     "name": "stdout",
     "output_type": "stream",
     "text": [
      "<Response [200]>\n"
     ]
    }
   ],
   "source": [
    "# Use API for read CSV dataset without downloading CSV files\n",
    "\n",
    "# Define the API endpoint URL\n",
    "\n",
    "\n",
    "api_url = \"https://opendata.paris.fr/api/explore/v2.0/catalog/datasets/les-arbres/exports/csv?delimiter=%3B&list_separator=%2C&quote_all=false&with_bom=false\"\n",
    "\n",
    "# Make GET request to the API\n",
    "response = requests.get(api_url)\n",
    "print(response)\n",
    "# Check if the request was successful (status code 200)\n",
    "if response.status_code == 200:\n",
    "\n",
    "    df_arbre = pd.read_csv(api_url,sep=\";\")\n",
    "else:\n",
    "    print(\"Request failed with status code:\", response.status_code)\n"
   ]
  },
  {
   "attachments": {},
   "cell_type": "markdown",
   "metadata": {},
   "source": [
    "### <a id='toc1_2_3_'></a>[1ère Inspection du dataset](#toc0_)"
   ]
  },
  {
   "attachments": {},
   "cell_type": "markdown",
   "metadata": {},
   "source": [
    "Nous allons vérifier que notre Dataframe c'est bien chargé en affichant les deux première ligne de notre Dataframe **df_arbre**"
   ]
  },
  {
   "cell_type": "code",
   "execution_count": 5,
   "metadata": {},
   "outputs": [
    {
     "data": {
      "text/html": [
       "<div>\n",
       "<style scoped>\n",
       "    .dataframe tbody tr th:only-of-type {\n",
       "        vertical-align: middle;\n",
       "    }\n",
       "\n",
       "    .dataframe tbody tr th {\n",
       "        vertical-align: top;\n",
       "    }\n",
       "\n",
       "    .dataframe thead th {\n",
       "        text-align: right;\n",
       "    }\n",
       "</style>\n",
       "<table border=\"1\" class=\"dataframe\">\n",
       "  <thead>\n",
       "    <tr style=\"text-align: right;\">\n",
       "      <th></th>\n",
       "      <th>idbase</th>\n",
       "      <th>typeemplacement</th>\n",
       "      <th>domanialite</th>\n",
       "      <th>arrondissement</th>\n",
       "      <th>complementadresse</th>\n",
       "      <th>numero</th>\n",
       "      <th>adresse</th>\n",
       "      <th>idemplacement</th>\n",
       "      <th>libellefrancais</th>\n",
       "      <th>genre</th>\n",
       "      <th>espece</th>\n",
       "      <th>varieteoucultivar</th>\n",
       "      <th>circonferenceencm</th>\n",
       "      <th>hauteurenm</th>\n",
       "      <th>stadedeveloppement</th>\n",
       "      <th>remarquable</th>\n",
       "      <th>geo_point_2d</th>\n",
       "    </tr>\n",
       "  </thead>\n",
       "  <tbody>\n",
       "    <tr>\n",
       "      <th>0</th>\n",
       "      <td>230515</td>\n",
       "      <td>Arbre</td>\n",
       "      <td>Alignement</td>\n",
       "      <td>PARIS 11E ARRDT</td>\n",
       "      <td>NaN</td>\n",
       "      <td>NaN</td>\n",
       "      <td>BOULEVARD DE CHARONNE</td>\n",
       "      <td>000203009</td>\n",
       "      <td>Sophora</td>\n",
       "      <td>Sophora</td>\n",
       "      <td>japonica</td>\n",
       "      <td>NaN</td>\n",
       "      <td>115</td>\n",
       "      <td>15</td>\n",
       "      <td>Adulte</td>\n",
       "      <td>NON</td>\n",
       "      <td>48.85084508831151, 2.3984921489487445</td>\n",
       "    </tr>\n",
       "    <tr>\n",
       "      <th>1</th>\n",
       "      <td>152291</td>\n",
       "      <td>Arbre</td>\n",
       "      <td>CIMETIERE</td>\n",
       "      <td>VAL-DE-MARNE</td>\n",
       "      <td>NaN</td>\n",
       "      <td>NaN</td>\n",
       "      <td>CIMETIERE DE THIAIS / AVENUE TRANSVERSALE N1 /...</td>\n",
       "      <td>A14900051007</td>\n",
       "      <td>Charme</td>\n",
       "      <td>Carpinus</td>\n",
       "      <td>betulus</td>\n",
       "      <td>''Fastigiata''</td>\n",
       "      <td>0</td>\n",
       "      <td>0</td>\n",
       "      <td>NaN</td>\n",
       "      <td>NaN</td>\n",
       "      <td>48.76063596486649, 2.371914191091841</td>\n",
       "    </tr>\n",
       "  </tbody>\n",
       "</table>\n",
       "</div>"
      ],
      "text/plain": [
       "   idbase typeemplacement domanialite   arrondissement complementadresse  \\\n",
       "0  230515           Arbre  Alignement  PARIS 11E ARRDT               NaN   \n",
       "1  152291           Arbre   CIMETIERE     VAL-DE-MARNE               NaN   \n",
       "\n",
       "   numero                                            adresse idemplacement  \\\n",
       "0     NaN                              BOULEVARD DE CHARONNE     000203009   \n",
       "1     NaN  CIMETIERE DE THIAIS / AVENUE TRANSVERSALE N1 /...  A14900051007   \n",
       "\n",
       "  libellefrancais     genre    espece varieteoucultivar  circonferenceencm  \\\n",
       "0         Sophora   Sophora  japonica               NaN                115   \n",
       "1          Charme  Carpinus   betulus    ''Fastigiata''                  0   \n",
       "\n",
       "   hauteurenm stadedeveloppement remarquable  \\\n",
       "0          15             Adulte         NON   \n",
       "1           0                NaN         NaN   \n",
       "\n",
       "                            geo_point_2d  \n",
       "0  48.85084508831151, 2.3984921489487445  \n",
       "1   48.76063596486649, 2.371914191091841  "
      ]
     },
     "execution_count": 5,
     "metadata": {},
     "output_type": "execute_result"
    }
   ],
   "source": [
    "# View 2 first row of dataframe\n",
    "df_arbre.head(2)"
   ]
  },
  {
   "attachments": {},
   "cell_type": "markdown",
   "metadata": {},
   "source": [
    "Regardons maintenant combien de lignes et de colonnes nous avons dans notre dataframe"
   ]
  },
  {
   "cell_type": "code",
   "execution_count": 6,
   "metadata": {},
   "outputs": [
    {
     "data": {
      "text/plain": [
       "'Notre dataset contient 207586 lignes et 17 colonnes pour décrire nos données.'"
      ]
     },
     "execution_count": 6,
     "metadata": {},
     "output_type": "execute_result"
    }
   ],
   "source": [
    "# See the shape of dataframe\n",
    "f\"Notre dataset contient {df_arbre.shape[0]} lignes et {df_arbre.shape[1]} colonnes pour décrire nos données.\""
   ]
  },
  {
   "attachments": {},
   "cell_type": "markdown",
   "metadata": {},
   "source": [
    "Vérifions si les types des données des colonnes sont appropriés"
   ]
  },
  {
   "cell_type": "code",
   "execution_count": 7,
   "metadata": {},
   "outputs": [
    {
     "data": {
      "text/plain": [
       "idbase                  int64\n",
       "typeemplacement        object\n",
       "domanialite            object\n",
       "arrondissement         object\n",
       "complementadresse      object\n",
       "numero                float64\n",
       "adresse                object\n",
       "idemplacement          object\n",
       "libellefrancais        object\n",
       "genre                  object\n",
       "espece                 object\n",
       "varieteoucultivar      object\n",
       "circonferenceencm       int64\n",
       "hauteurenm              int64\n",
       "stadedeveloppement     object\n",
       "remarquable            object\n",
       "geo_point_2d           object\n",
       "dtype: object"
      ]
     },
     "execution_count": 7,
     "metadata": {},
     "output_type": "execute_result"
    }
   ],
   "source": [
    "# See types of values in the dataframe\n",
    "df_arbre.dtypes"
   ]
  },
  {
   "attachments": {},
   "cell_type": "markdown",
   "metadata": {},
   "source": [
    "Pandas a bien converti nos données dans le bon type il n'aura pas de conversion sur le types de données à faire"
   ]
  },
  {
   "attachments": {},
   "cell_type": "markdown",
   "metadata": {},
   "source": [
    "Regardons maintenant le taux de valeurs manquantes dans chaque colonnes"
   ]
  },
  {
   "cell_type": "code",
   "execution_count": 8,
   "metadata": {},
   "outputs": [
    {
     "data": {
      "text/plain": [
       "idbase                0.000000\n",
       "typeemplacement       0.000000\n",
       "domanialite           0.000000\n",
       "arrondissement        0.000000\n",
       "complementadresse     0.726301\n",
       "numero                1.000000\n",
       "adresse               0.000000\n",
       "idemplacement         0.000000\n",
       "libellefrancais       0.005814\n",
       "genre                 0.000010\n",
       "espece                0.011923\n",
       "varieteoucultivar     0.808797\n",
       "circonferenceencm     0.000000\n",
       "hauteurenm            0.000000\n",
       "stadedeveloppement    0.229023\n",
       "remarquable           0.109107\n",
       "geo_point_2d          0.000000\n",
       "dtype: float64"
      ]
     },
     "execution_count": 8,
     "metadata": {},
     "output_type": "execute_result"
    }
   ],
   "source": [
    "# See Nan values on dataframe\n",
    "df_arbre.isna().mean()"
   ]
  },
  {
   "attachments": {},
   "cell_type": "markdown",
   "metadata": {},
   "source": [
    "Observation sur les valeurs manquantes : \n",
    "- La colonne **typeemplacement** contient seulement mention 'Arbre' pour chaque valeur (colonne à supprimer)\n",
    "- La colonne **numero** contient que des valeurs nulles (colonne à supprimer)\n",
    "- La colonne **complementadresse** contient **72%** de valeurs nulle, cette colonne ne nous servira pas pour notre analyse (colonne à supprimer)"
   ]
  },
  {
   "attachments": {},
   "cell_type": "markdown",
   "metadata": {},
   "source": [
    "### Vérification des duplicatas\n",
    "Chaque arbre de paris a un identifiant unique valeur contenu dans la colonne **idbase** vérifions que chaque valeurs est bien unique"
   ]
  },
  {
   "cell_type": "code",
   "execution_count": 9,
   "metadata": {},
   "outputs": [
    {
     "data": {
      "text/html": [
       "<div>\n",
       "<style scoped>\n",
       "    .dataframe tbody tr th:only-of-type {\n",
       "        vertical-align: middle;\n",
       "    }\n",
       "\n",
       "    .dataframe tbody tr th {\n",
       "        vertical-align: top;\n",
       "    }\n",
       "\n",
       "    .dataframe thead th {\n",
       "        text-align: right;\n",
       "    }\n",
       "</style>\n",
       "<table border=\"1\" class=\"dataframe\">\n",
       "  <thead>\n",
       "    <tr style=\"text-align: right;\">\n",
       "      <th></th>\n",
       "      <th>idbase</th>\n",
       "      <th>typeemplacement</th>\n",
       "      <th>domanialite</th>\n",
       "      <th>arrondissement</th>\n",
       "      <th>complementadresse</th>\n",
       "      <th>numero</th>\n",
       "      <th>adresse</th>\n",
       "      <th>idemplacement</th>\n",
       "      <th>libellefrancais</th>\n",
       "      <th>genre</th>\n",
       "      <th>espece</th>\n",
       "      <th>varieteoucultivar</th>\n",
       "      <th>circonferenceencm</th>\n",
       "      <th>hauteurenm</th>\n",
       "      <th>stadedeveloppement</th>\n",
       "      <th>remarquable</th>\n",
       "      <th>geo_point_2d</th>\n",
       "    </tr>\n",
       "  </thead>\n",
       "  <tbody>\n",
       "    <tr>\n",
       "      <th>80947</th>\n",
       "      <td>227160</td>\n",
       "      <td>Arbre</td>\n",
       "      <td>Alignement</td>\n",
       "      <td>PARIS 6E ARRDT</td>\n",
       "      <td>NaN</td>\n",
       "      <td>NaN</td>\n",
       "      <td>PORT DES SAINTS PERES / QUAI MALAQUAIS</td>\n",
       "      <td>000201008</td>\n",
       "      <td>Peuplier</td>\n",
       "      <td>Populus</td>\n",
       "      <td>alba</td>\n",
       "      <td>''Raket''</td>\n",
       "      <td>20</td>\n",
       "      <td>5</td>\n",
       "      <td>Jeune (arbre)</td>\n",
       "      <td>NON</td>\n",
       "      <td>48.85831741176347, 2.3344414199576278</td>\n",
       "    </tr>\n",
       "    <tr>\n",
       "      <th>111297</th>\n",
       "      <td>227160</td>\n",
       "      <td>Arbre</td>\n",
       "      <td>Alignement</td>\n",
       "      <td>PARIS 6E ARRDT</td>\n",
       "      <td>NaN</td>\n",
       "      <td>NaN</td>\n",
       "      <td>PORT DES SAINTS PERES / QUAI MALAQUAIS</td>\n",
       "      <td>000201008</td>\n",
       "      <td>Peuplier</td>\n",
       "      <td>Populus</td>\n",
       "      <td>alba</td>\n",
       "      <td>''Raket''</td>\n",
       "      <td>165</td>\n",
       "      <td>15</td>\n",
       "      <td>NaN</td>\n",
       "      <td>NON</td>\n",
       "      <td>48.85831741176347, 2.3344414199576278</td>\n",
       "    </tr>\n",
       "  </tbody>\n",
       "</table>\n",
       "</div>"
      ],
      "text/plain": [
       "        idbase typeemplacement domanialite  arrondissement complementadresse  \\\n",
       "80947   227160           Arbre  Alignement  PARIS 6E ARRDT               NaN   \n",
       "111297  227160           Arbre  Alignement  PARIS 6E ARRDT               NaN   \n",
       "\n",
       "        numero                                 adresse idemplacement  \\\n",
       "80947      NaN  PORT DES SAINTS PERES / QUAI MALAQUAIS     000201008   \n",
       "111297     NaN  PORT DES SAINTS PERES / QUAI MALAQUAIS     000201008   \n",
       "\n",
       "       libellefrancais    genre espece varieteoucultivar  circonferenceencm  \\\n",
       "80947         Peuplier  Populus   alba         ''Raket''                 20   \n",
       "111297        Peuplier  Populus   alba         ''Raket''                165   \n",
       "\n",
       "        hauteurenm stadedeveloppement remarquable  \\\n",
       "80947            5      Jeune (arbre)         NON   \n",
       "111297          15                NaN         NON   \n",
       "\n",
       "                                 geo_point_2d  \n",
       "80947   48.85831741176347, 2.3344414199576278  \n",
       "111297  48.85831741176347, 2.3344414199576278  "
      ]
     },
     "metadata": {},
     "output_type": "display_data"
    }
   ],
   "source": [
    "# Create variable for see all duplicate value in idbase column\n",
    "duplicated_values = df_arbre[df_arbre['idbase'].duplicated(keep=False)]\n",
    "\n",
    "# Print the duplicated values to see all values of two\n",
    "display(duplicated_values)\n"
   ]
  },
  {
   "cell_type": "code",
   "execution_count": 10,
   "metadata": {},
   "outputs": [],
   "source": [
    "# Drop the duplicated values and keep the values with more information\n",
    "df_arbre = df_arbre.drop_duplicates(keep='first')"
   ]
  },
  {
   "attachments": {},
   "cell_type": "markdown",
   "metadata": {},
   "source": [
    "Notre dataset contient un seul arbre en double, nous avons choisi de gardé la valeur de la ligne 91478 qui contient plus d'information sur l'arbre."
   ]
  },
  {
   "attachments": {},
   "cell_type": "markdown",
   "metadata": {},
   "source": [
    "### Arbre remarquable \n",
    "La colonne 'remarquable' contient deux valeurs soit 'NON' ou 'OUI' soit 'Nan'. On sait que notre colonne contient environ **10 %** de valeurs nulle.\n",
    "Pour vérifier le nombre d'arbre remarquable à paris nous allons vérifier nos données grâce a un autre dataset comptabilisant les arbres remarquable [disponible ici](https://opendata.paris.fr/explore/dataset/arbresremarquablesparis/).\n",
    "\n",
    "- Quesqu'un arbre remarquable ?\n",
    "\n",
    "Selon l'observatoire des arbres de paris un arbre remarquable se distingue selon plusieurs caractéristiques :\n",
    "> \"La beauté, l’âge, les dimensions, l’histoire, les légendes, les coutumes, la rareté, les curiosités sont autant d’éléments qui permettent d’identifier des arbres hors du commun. Le caractère remarquable d’un arbre reste toutefois librement appréciable.\"\n",
    "\n",
    "Comparons maintenant les arbres remarquables de notre dataset avec celui contenant spécifiquement les arbres remarquables"
   ]
  },
  {
   "cell_type": "code",
   "execution_count": 28,
   "metadata": {},
   "outputs": [
    {
     "name": "stdout",
     "output_type": "stream",
     "text": [
      "<Response [200]>\n"
     ]
    }
   ],
   "source": [
    "# Compare values of dataset on tree remarquable \n",
    "\n",
    "# Use API for read CSV dataset without downloading CSV files\n",
    "\n",
    "# Define the API endpoint URL\n",
    "api_url = \"https://opendata.paris.fr/api/explore/v2.0/catalog/datasets/arbresremarquablesparis/exports/csv?delimiter=%3B&list_separator=%2C&quote_all=false&with_bom=false\"\n",
    "\n",
    "# Make GET request to the API\n",
    "response = requests.get(api_url)\n",
    "print(response)\n",
    "# Check if the request was successful (status code 200)\n",
    "if response.status_code == 200:\n",
    "\n",
    "    df_remarquable = pd.read_csv(api_url,sep=\";\")\n",
    "else:\n",
    "    print(\"Request failed with status code:\", response.status_code)\n",
    "\n",
    "df_remarquable['arbres_idbase'] = df_remarquable['arbres_idbase'].astype('int64')"
   ]
  },
  {
   "cell_type": "code",
   "execution_count": 30,
   "metadata": {},
   "outputs": [],
   "source": [
    "# Create a dataframe with only remarquable trees \n",
    "df_arbre_remarquable = df_arbre[df_arbre['remarquable'] == 'OUI']\n",
    "\n"
   ]
  },
  {
   "attachments": {},
   "cell_type": "markdown",
   "metadata": {},
   "source": [
    "### <a id='toc1_3_'></a>[Suppression et renommage des colonnes du dataset](#toc0_)"
   ]
  }
 ],
 "metadata": {
  "kernelspec": {
   "display_name": "projet_data_arbre",
   "language": "python",
   "name": "python3"
  },
  "language_info": {
   "codemirror_mode": {
    "name": "ipython",
    "version": 3
   },
   "file_extension": ".py",
   "mimetype": "text/x-python",
   "name": "python",
   "nbconvert_exporter": "python",
   "pygments_lexer": "ipython3",
   "version": "3.11.3"
  },
  "orig_nbformat": 4
 },
 "nbformat": 4,
 "nbformat_minor": 2
}
